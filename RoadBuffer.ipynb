{
 "cells": [
  {
   "cell_type": "code",
   "execution_count": 1,
   "id": "9e894da9",
   "metadata": {},
   "outputs": [],
   "source": [
    "import arcpy\n",
    "# Set Geoprocessing enviro\n",
    "arcpy.env.workspace = \"D:\\Liberty\\G_650\\PyScripting\\PythonGP\\PythonGP\\Data\\SanJuan.gdb\"\n",
    "arcpy.env.overwriteOutput = True\n"
   ]
  },
  {
   "cell_type": "code",
   "execution_count": 10,
   "id": "05b0a1af",
   "metadata": {},
   "outputs": [],
   "source": [
    "# Set join parameter for BufferDistance table to the Raods feature class\n",
    "inFeatures = 'Roads'\n",
    "inField = 'ROUTE_TYPE'\n",
    "joinTable = 'BufferDistance'\n",
    "joinField = 'ROUTE_TYPE'\n",
    "# Join table to Feature Class\n",
    "arcpy.JoinField_management(inFeatures, inField, joinTable, joinField)\n",
    "\n",
    "# Set parameters for Buffer\n",
    "outBuffers = 'RoadBuffers'\n",
    "buffField = 'DISTANCE'"
   ]
  },
  {
   "cell_type": "code",
   "execution_count": 11,
   "id": "9a7fd350",
   "metadata": {},
   "outputs": [
    {
     "data": {
      "text/html": [
       "<div class='gpresult'><h2 class='msg-title'>Messages</h2><div id='messages'>Start Time: Tuesday, April 8, 2025 8:02:39 PM<br>Succeeded at Tuesday, April 8, 2025 8:02:40 PM (Elapsed Time: 1.96 seconds)<br></div><div id = 'default' /></div></div>"
      ],
      "text/plain": [
       "<Result 'D:\\\\Liberty\\\\G_650\\\\PyScripting\\\\PythonGP\\\\PythonGP\\\\Data\\\\SanJuan.gdb\\\\RoadBuffers'>"
      ]
     },
     "execution_count": 11,
     "metadata": {},
     "output_type": "execute_result"
    }
   ],
   "source": [
    "# Buffer the roads based on DISTANCE attribute\n",
    "arcpy.Buffer_analysis(inFeatures, outBuffers, buffField)"
   ]
  },
  {
   "cell_type": "code",
   "execution_count": 16,
   "id": "f44dd684",
   "metadata": {},
   "outputs": [
    {
     "name": "stdout",
     "output_type": "stream",
     "text": [
      "Polygon\n",
      "NAD_1983_UTM_Zone_13N\n",
      "OBJECTID\n"
     ]
    }
   ],
   "source": [
    "desc = arcpy.Describe(r'D:\\Liberty\\G_650\\PyScripting\\PythonGP\\PythonGP\\Data\\SanJuan.gdb\\Lakes')\n",
    "print(desc.shapeType)\n",
    "print(desc.spatialReference.Name)\n",
    "fieldList =arcpy.ListFields('Lakes')\n",
    "print(fieldList[0].name)"
   ]
  },
  {
   "cell_type": "code",
   "execution_count": 5,
   "id": "fbf696b4",
   "metadata": {},
   "outputs": [
    {
     "data": {
      "text/html": [
       "<div class='gpresult'><h2 class='msg-title'>Messages</h2><div id='messages'>Start Time: Tuesday, April 8, 2025 8:53:50 PM<br>Reading Features...<br>Cracking Features...<br>Assembling Features...<br>Succeeded at Tuesday, April 8, 2025 8:53:52 PM (Elapsed Time: 2.11 seconds)<br></div><div id = 'default' /></div></div>"
      ],
      "text/plain": [
       "<Result 'D:\\\\Liberty\\\\G_650\\\\PyScripting\\\\PythonGP\\\\PythonGP\\\\Data\\\\SanJuan.gdb\\\\WaterBuffers'>"
      ]
     },
     "execution_count": 5,
     "metadata": {},
     "output_type": "execute_result"
    }
   ],
   "source": [
    "# Create list of feature classes in .gdb\n",
    "fcList = arcpy.ListFeatureClasses()\n",
    "\n",
    "# Loop to buffer Lakes and Streams\n",
    "bufferList = []\n",
    "for fc in fcList:\n",
    "    if fc == 'Lakes' or fc == 'Streams':\n",
    "        arcpy.Buffer_analysis(fc, fc + 'Buffer', '1000 meters', \"\", \"\", 'ALL')\n",
    "        bufferList.append(fc + \"Buffer\")\n",
    "arcpy.Union_analysis(bufferList, \"WaterBuffers\")"
   ]
  },
  {
   "cell_type": "code",
   "execution_count": 7,
   "id": "9384e57d",
   "metadata": {},
   "outputs": [
    {
     "data": {
      "text/html": [
       "<div class='gpresult'><h2 class='msg-title'>Messages</h2><div id='messages'>Start Time: Tuesday, April 8, 2025 8:57:31 PM<br>Reading Features...<br>Cracking Features...<br>Assembling Features...<br>Succeeded at Tuesday, April 8, 2025 8:57:33 PM (Elapsed Time: 2.08 seconds)<br></div><div id = 'default' /></div></div>"
      ],
      "text/plain": [
       "<Result 'D:\\\\Liberty\\\\G_650\\\\PyScripting\\\\PythonGP\\\\PythonGP\\\\Data\\\\SanJuan.gdb\\\\NonChemical'>"
      ]
     },
     "execution_count": 7,
     "metadata": {},
     "output_type": "execute_result"
    }
   ],
   "source": [
    "# Union treatment areas\n",
    "treatmentList = ['RoadBuffers', 'WaterBuffers']\n",
    "arcpy.Union_analysis(treatmentList, \"NonChemical\")"
   ]
  }
 ],
 "metadata": {
  "kernelspec": {
   "display_name": "Python 3",
   "language": "python",
   "name": "python3"
  },
  "language_info": {
   "codemirror_mode": {
    "name": "ipython",
    "version": 3
   },
   "file_extension": ".py",
   "mimetype": "text/x-python",
   "name": "python",
   "nbconvert_exporter": "python",
   "pygments_lexer": "ipython3",
   "version": "3.11.10"
  }
 },
 "nbformat": 4,
 "nbformat_minor": 5
}
